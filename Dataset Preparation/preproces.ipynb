{
 "cells": [
  {
   "cell_type": "markdown",
   "metadata": {},
   "source": [
    "Required packets"
   ]
  },
  {
   "cell_type": "code",
   "execution_count": 1,
   "metadata": {},
   "outputs": [],
   "source": [
    "import torch\n",
    "import pandas as pd\n",
    "import numpy as np"
   ]
  },
  {
   "cell_type": "markdown",
   "metadata": {},
   "source": [
    "Compare the original dataset with the tensor obtained after peek detection to find the intervall where all seasonality are present"
   ]
  },
  {
   "cell_type": "code",
   "execution_count": null,
   "metadata": {},
   "outputs": [],
   "source": [
    "series = pd.read_csv('dataset/Custom/H_test_noise.csv', header=0, index_col=0, parse_dates=True)\n",
    "\n",
    "column_names = series.columns.to_list()\n",
    "time_index = series.index\n",
    "wavelet_result = torch.load(\"result.pt\")\n",
    "\n",
    "rows_to_add = []\n",
    "\n",
    "if len(column_names) > 1:\n",
    "  # Itera su ciascuna riga del DataFrame\n",
    "  for index, row in series.iterrows():\n",
    "    tmp_row = [0] * len(row)\n",
    "    row_index = series.index.get_loc(index)\n",
    "\n",
    "    for i in range(0, len(column_names)):\n",
    "      if torch.all(torch.eq(torch.tensor(1), wavelet_result[row_index, i])):\n",
    "        tmp_row[i] = row[i]\n",
    "      else:\n",
    "        tmp_row[i] = np.nan\n",
    "    rows_to_add.append(tmp_row)\n",
    "else:\n",
    "  for index, row in series.iterrows():\n",
    "    tmp_row = [0] * len(row)\n",
    "    row_index = series.index.get_loc(index)\n",
    "    if torch.all(torch.eq(torch.tensor(1), wavelet_result[row_index])):\n",
    "      tmp_row = row.values[0]\n",
    "    else:\n",
    "      tmp_row = np.nan\n",
    "    rows_to_add.append(tmp_row)\n",
    "\n",
    "# Create a DataFrame for the coefficients of the current dimension\n",
    "final_df = pd.DataFrame(data=rows_to_add, index=time_index, columns=[f'{name}' for name in column_names])\n",
    "\n",
    "final_df.to_csv('final_dataset.csv')"
   ]
  }
 ],
 "metadata": {
  "kernelspec": {
   "display_name": "wav_env",
   "language": "python",
   "name": "python3"
  },
  "language_info": {
   "codemirror_mode": {
    "name": "ipython",
    "version": 3
   },
   "file_extension": ".py",
   "mimetype": "text/x-python",
   "name": "python",
   "nbconvert_exporter": "python",
   "pygments_lexer": "ipython3",
   "version": "3.11.6"
  }
 },
 "nbformat": 4,
 "nbformat_minor": 2
}
