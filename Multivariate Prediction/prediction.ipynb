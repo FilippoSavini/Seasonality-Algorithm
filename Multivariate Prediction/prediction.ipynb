{
 "cells": [
  {
   "cell_type": "markdown",
   "metadata": {},
   "source": [
    "Required packets"
   ]
  },
  {
   "cell_type": "code",
   "execution_count": null,
   "metadata": {},
   "outputs": [],
   "source": [
    "from darts import TimeSeries\n",
    "from darts.metrics import mape, mse, mae\n",
    "from darts.models import NaiveMean, NaiveSeasonal, NaiveDrift, NaiveMovingAverage, RandomForest, LinearRegressionModel, AutoARIMA, Theta, StatsForecastAutoETS, Prophet, NBEATSModel, NLinearModel\n",
    "\n",
    "import pandas as pd\n",
    "import matplotlib.pyplot as plt"
   ]
  },
  {
   "cell_type": "markdown",
   "metadata": {},
   "source": [
    "Load dataset as a series and prepare it by splitting into train and test"
   ]
  },
  {
   "cell_type": "code",
   "execution_count": null,
   "metadata": {},
   "outputs": [],
   "source": [
    "df = pd.read_csv(\"drive/MyDrive/dataset/Water/task_df_aggr_persone_media.csv\")\n",
    "series = TimeSeries.from_dataframe(df, \"timestamp\")\n",
    "train, test = series.split_after(0.75)\n",
    "if series.is_univariate:\n",
    "  train.plot()\n",
    "  test.plot()\n",
    "else:\n",
    "  header = train.columns\n",
    "  train.plot()\n",
    "  test.plot()\n",
    "\n",
    "\n",
    "df = pd.read_csv(\"final_dataset.csv\")\n",
    "series_w = TimeSeries.from_dataframe(df, \"timestamp\")\n",
    "train_w, test_w = series_w.split_after(0.75)"
   ]
  },
  {
   "cell_type": "markdown",
   "metadata": {},
   "source": [
    "## Naive Models - Baseline"
   ]
  },
  {
   "cell_type": "code",
   "execution_count": null,
   "metadata": {},
   "outputs": [],
   "source": [
    "model0 = NaiveMean()\n",
    "model1 = NaiveSeasonal(K = 24)\n",
    "model2 = NaiveDrift()\n",
    "model3 = NaiveMovingAverage(input_chunk_length = 24)\n",
    "\n",
    "models = {\n",
    "    \"Mean\": model0,\n",
    "    \"Seasonal\": model1,\n",
    "    \"Drift\": model2,\n",
    "    \"MA\": model3\n",
    "}"
   ]
  },
  {
   "cell_type": "code",
   "execution_count": null,
   "metadata": {},
   "outputs": [],
   "source": [
    "fig = plt.figure(figsize=(16, 10))\n",
    "for i, (name, model) in enumerate(models.items()):\n",
    "  print(name)\n",
    "  model.fit(series=train)\n",
    "  predictions = model.predict(n = len(test))\n",
    "  mae_score = round(mae(test, predictions), 2)\n",
    "  mse_score = round(mse(test, predictions), 2)\n",
    "\n",
    "  fig.add_subplot(2, 2, i+1)\n",
    "  train.plot(label=\"train\"); test.plot(label=\"test\"); predictions.plot(label=name)\n",
    "  plt.title(f\"Method: {name}, MAE: {mae_score}, MSE: {mse_score} with sample selection\"); plt.legend()\n",
    "fig.tight_layout()\n",
    "plt.show()"
   ]
  },
  {
   "cell_type": "markdown",
   "metadata": {},
   "source": [
    "## Classical Models"
   ]
  },
  {
   "cell_type": "code",
   "execution_count": null,
   "metadata": {},
   "outputs": [],
   "source": [
    "model0 = Theta()\n",
    "model1 = LinearRegressionModel(lags=24)\n",
    "model2 = StatsForecastAutoETS()\n",
    "model3 = AutoARIMA(start_p=2, max_p=12, start_q=1)\n",
    "model4 = RandomForest(lags=24, n_estimators=300)\n",
    "model5 = Prophet()\n",
    "\n",
    "models = {\n",
    "    #\"Theta\": model0,\n",
    "    \"Linear\": model1,\n",
    "    \"Exponential\": model2,\n",
    "    \"ARIMA\": model3,\n",
    "    \"RandomForest\": model4,\n",
    "    \"Prophet\": model5\n",
    "}"
   ]
  },
  {
   "cell_type": "code",
   "execution_count": null,
   "metadata": {},
   "outputs": [],
   "source": [
    "mae_list = []\n",
    "mse_list = []\n",
    "fig = plt.figure(figsize=(16, 10))\n",
    "for i, (name, model) in enumerate(models.items()):\n",
    "  print(name)\n",
    "  for index, column in enumerate(header):\n",
    "    tmp_train = train.univariate_component(column)\n",
    "    tmp_test = test.univariate_component(column)\n",
    "    model.fit(series=tmp_train)\n",
    "    predictions = model.predict(n = len(tmp_test))\n",
    "    mae_score = round(mae(tmp_test, predictions), 5)\n",
    "    mae_list.append([mae_score, name, column])\n",
    "    mse_score = round(mse(tmp_test, predictions), 5)\n",
    "    mse_list.append([mse_score, name, column])\n",
    "\n",
    "\n",
    "    fig.add_subplot(6, 4, i+index+1) #method, variable, position\n",
    "    tmp_train.plot(label=\"train\"); tmp_test.plot(label=\"test\"); predictions.plot(label=name)\n",
    "    plt.title(f\"Method: {name}, Variable: {column} (std)\")\n",
    "fig.tight_layout()\n",
    "plt.savefig('w_o.png')\n",
    "plt.show()\n",
    "\n",
    "# fig = plt.figure(figsize=(16, 10))\n",
    "# for i, (name, model) in enumerate(models.items()):\n",
    "#   print(name)\n",
    "#   for index, column in enumerate(header):\n",
    "#     if name == \"RandomForest\":\n",
    "#       train = train_w.univariate_component(column).pd_dataframe()\n",
    "#       train = train.dropna()\n",
    "#       train = TimeSeries.from_dataframe()\n",
    "#     else:\n",
    "#       train = train_w.univariate_component(column)\n",
    "#       train = train.longest_contiguous_slice(max_gap_size=0)\n",
    "#       print(len(train))\n",
    "#     model.fit(series=train)\n",
    "#     predictions = model.predict(n = len(test))\n",
    "#     mae_score = round(mae(test.univariate_component(column), predictions), 5)\n",
    "#     mae_list.append([mae_score, name])\n",
    "#     mse_score = round(mse(test.univariate_component(column), predictions), 5)\n",
    "#     mse_list.append([mse_score, name])\n",
    "\n",
    "\n",
    "#     fig.add_subplot(6, 4, i+index+1)\n",
    "#     train_w.plot(label=\"train\"); test.plot(label=\"test\"); predictions.plot(label=name)\n",
    "#     plt.title(f\"Method: {name}, Variable: {column} with selection\");\n",
    "# fig.tight_layout()\n",
    "# plt.savefig('w.png')\n",
    "# plt.show()\n",
    "\n",
    "print(mae_list)\n",
    "print(mse_list)"
   ]
  },
  {
   "cell_type": "markdown",
   "metadata": {},
   "source": [
    "## Deep Learning models"
   ]
  },
  {
   "cell_type": "code",
   "execution_count": null,
   "metadata": {},
   "outputs": [],
   "source": [
    "model6 = NBEATSModel(\n",
    "    input_chunk_length = 24,\n",
    "    output_chunk_length= 4,\n",
    "    num_stacks = 3,\n",
    "    num_blocks = 1,\n",
    "    num_layers = 2,\n",
    "    layer_widths = 32,\n",
    "    n_epochs = 50,\n",
    "    batch_size = 12,\n",
    ")\n",
    "\n",
    "model7 = NLinearModel(\n",
    "    input_chunk_length=24,\n",
    "    output_chunk_length=4,\n",
    "    n_epochs=50,\n",
    ")\n",
    "\n",
    "models = {\n",
    "    \"NBEATS\": model6,\n",
    "    \"NLinear\": model7\n",
    "}"
   ]
  },
  {
   "cell_type": "code",
   "execution_count": null,
   "metadata": {},
   "outputs": [],
   "source": [
    "mae_list = []\n",
    "mse_list = []\n",
    "fig = plt.figure(figsize=(16, 10))\n",
    "for i, (name, model) in enumerate(models.items()):\n",
    "  print(name)\n",
    "  for index, column in enumerate(header):\n",
    "    tmp_train = train.univariate_component(column)\n",
    "    tmp_test = test.univariate_component(column)\n",
    "    model.fit(series=tmp_train)\n",
    "    predictions = model.predict(n = len(test))\n",
    "    mae_score = round(mae(tmp_test, predictions), 5)\n",
    "    mae_list.append([mae_score, name])\n",
    "    mse_score = round(mse(tmp_test, predictions), 5)\n",
    "    mse_list.append([mse_score, name])\n",
    "  # mae_score = mae(test, predictions)\n",
    "  # mse_score = mse(test, predictions)\n",
    "\n",
    "    fig.add_subplot(2, 4, i+index+1) # method, variable, position\n",
    "    train.plot(label=\"train\"); test.plot(label=\"test\"); predictions.plot(label=name)\n",
    "    plt.title(f\"Method: {name}, Variable: {column} (std)\"); plt.legend()\n",
    "fig.tight_layout()\n",
    "plt.savefig('nn_wo.png')\n",
    "plt.show()\n",
    "\n",
    "fig = plt.figure(figsize=(16, 10))\n",
    "for i, (name, model) in enumerate(models.items()):\n",
    "  print(name)\n",
    "  for index, column in enumerate(header):\n",
    "    tmp_train = train_w.univariate_component(column)\n",
    "    tmp_test = test.univariate_component(column)\n",
    "    model.fit(series=train)\n",
    "    predictions = model.predict(n = len(test))\n",
    "    mae_score = round(mae(tmp_test, predictions), 5)\n",
    "    mae_list.append([mae_score, name])\n",
    "    mse_score = round(mse(tmp_test, predictions), 5)\n",
    "    mse_list.append([mse_score, name])\n",
    "\n",
    "  fig.add_subplot(2, 4, i+1+index)\n",
    "  train.plot(label=\"train\"); test.plot(label=\"test\"); predictions.plot(label=name)\n",
    "  plt.title(f\"Method: {name}, Variable: {column} with sample selection\"); plt.legend()\n",
    "fig.tight_layout()\n",
    "plt.savefig('nn_w.png')\n",
    "plt.show()"
   ]
  }
 ],
 "metadata": {
  "kernelspec": {
   "display_name": "wav_env",
   "language": "python",
   "name": "python3"
  },
  "language_info": {
   "name": "python",
   "version": "3.11.6"
  }
 },
 "nbformat": 4,
 "nbformat_minor": 2
}
