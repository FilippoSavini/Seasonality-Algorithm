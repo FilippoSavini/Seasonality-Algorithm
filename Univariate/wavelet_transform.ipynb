{
 "cells": [
  {
   "cell_type": "markdown",
   "metadata": {},
   "source": [
    "Required packets"
   ]
  },
  {
   "cell_type": "code",
   "execution_count": 1,
   "metadata": {},
   "outputs": [],
   "source": [
    "from pandas import read_csv, DataFrame\n",
    "import pywt\n",
    "import matplotlib.pyplot as plt\n",
    "import numpy as np"
   ]
  },
  {
   "cell_type": "markdown",
   "metadata": {},
   "source": [
    "## Wavelet Transform"
   ]
  },
  {
   "cell_type": "markdown",
   "metadata": {},
   "source": [
    "Apply CWT to match eventually the right seasonality, mother wavelet used is Morlet."
   ]
  },
  {
   "cell_type": "markdown",
   "metadata": {},
   "source": [
    "Load the dataset"
   ]
  },
  {
   "cell_type": "code",
   "execution_count": null,
   "metadata": {},
   "outputs": [],
   "source": [
    "series = read_csv('series_normalized.csv', header=0, index_col=0, parse_dates=True).squeeze(\"columns\")\n",
    "\n",
    "# Create a date range with the same start and end dates and frequency as the original series\n",
    "time_index = series.index\n",
    "\n",
    "# prepare data\n",
    "X = series.values.astype('float32')"
   ]
  },
  {
   "cell_type": "markdown",
   "metadata": {},
   "source": [
    "Plot"
   ]
  },
  {
   "cell_type": "code",
   "execution_count": null,
   "metadata": {},
   "outputs": [],
   "source": [
    "plt.plot(time_index, X)\n",
    "plt.title('Dataset')\n",
    "plt.xlabel('Time')\n",
    "plt.ylabel('Amplitude')\n",
    "plt.show()"
   ]
  },
  {
   "cell_type": "markdown",
   "metadata": {},
   "source": [
    "Select the right frequencies and normalize based on sampling frequency"
   ]
  },
  {
   "cell_type": "code",
   "execution_count": null,
   "metadata": {},
   "outputs": [],
   "source": [
    "# Calculate the time difference between consecutive timestamps\n",
    "time_diff = series.index.to_series().diff().min()\n",
    "\n",
    "# Set dt based on the time difference\n",
    "dt = time_diff.total_seconds()\n",
    "\n",
    "# Convert dt to Hertz\n",
    "fs = 1 / dt\n",
    "\n",
    "# Define the frequencies for daily to yearly\n",
    "frequencies = np.array([0.0000115740741, 1.6534391534391535e-06, 4.133597883597884e-07, 3.21502058e-8])\n",
    "\n",
    "# Select frequencies lower than or equal to the sampling frequency\n",
    "selected_frequencies = frequencies[frequencies < fs] / fs"
   ]
  },
  {
   "cell_type": "markdown",
   "metadata": {},
   "source": [
    "Possible Wavelet"
   ]
  },
  {
   "cell_type": "code",
   "execution_count": null,
   "metadata": {},
   "outputs": [],
   "source": [
    "wavlist = pywt.wavelist(kind='continuous')\n",
    "print(wavlist)"
   ]
  },
  {
   "cell_type": "markdown",
   "metadata": {},
   "source": [
    "Wavelet Transform based on scales obtained from selected frequencies"
   ]
  },
  {
   "cell_type": "code",
   "execution_count": null,
   "metadata": {},
   "outputs": [],
   "source": [
    "scales = pywt.frequency2scale('morl', selected_frequencies)\n",
    "coef, freqs=pywt.cwt(X, scales, 'morl')"
   ]
  },
  {
   "cell_type": "markdown",
   "metadata": {},
   "source": [
    "Create the new dataframe with the coef values for each scale"
   ]
  },
  {
   "cell_type": "code",
   "execution_count": null,
   "metadata": {},
   "outputs": [],
   "source": [
    "if len(freqs) == 4:\n",
    "  column_names = ['Daily', 'Weekly', 'Monthly', 'Yearly']\n",
    "elif len(freqs) == 3:\n",
    "  column_names = ['Weekly', 'Monthly', 'Yearly']\n",
    "elif len(freqs) == 2:\n",
    "  column_names = ['Monthly', 'Yearly']\n",
    "else:\n",
    "  column_names = ['Yearly']\n",
    "\n",
    "# Create a DataFrame with the time index and coefficients\n",
    "df_coef = DataFrame(data= coef.T, index=time_index, columns=[f'{name}' for name in column_names])\n",
    "# Set the index name\n",
    "df_coef.index.name = 'Date'\n",
    "#df_coef_abs = DataFrame(data= np.abs(coef.T), index=time_index, columns=[f'Freq_{freq}' for freq in freqs])\n",
    "\n",
    "# Save the DataFrame to a CSV file\n",
    "df_coef.to_csv('coefficents.csv')\n",
    "#df_coef_abs.to_csv('abs_coefficents.csv')"
   ]
  },
  {
   "cell_type": "markdown",
   "metadata": {},
   "source": [
    "Plot the scalogram"
   ]
  },
  {
   "cell_type": "code",
   "execution_count": null,
   "metadata": {},
   "outputs": [],
   "source": [
    "plt.imshow(coef, aspect='auto', extent=[time_index[0], time_index[-1], freqs[0], freqs[-1]], cmap='jet', interpolation='bilinear')\n",
    "plt.title('Scalogram')\n",
    "plt.xlabel('Time')\n",
    "plt.ylabel('Frequency (Hz)')\n",
    "plt.colorbar(label='Amplitude')\n",
    "plt.show()"
   ]
  },
  {
   "cell_type": "markdown",
   "metadata": {},
   "source": [
    "Plot the Wavelet Transform for each scale"
   ]
  },
  {
   "cell_type": "code",
   "execution_count": null,
   "metadata": {},
   "outputs": [],
   "source": [
    "for i in range(len(coef)):\n",
    "  plt.plot(time_index, coef[i])\n",
    "  plt.title(f'morl- freq {freqs[i]}')\n",
    "  plt.xlabel('Time')\n",
    "  plt.ylabel('Amplitude')\n",
    "  plt.show()"
   ]
  }
 ],
 "metadata": {
  "kernelspec": {
   "display_name": "wav_env",
   "language": "python",
   "name": "python3"
  },
  "language_info": {
   "codemirror_mode": {
    "name": "ipython",
    "version": 3
   },
   "file_extension": ".py",
   "mimetype": "text/x-python",
   "name": "python",
   "nbconvert_exporter": "python",
   "pygments_lexer": "ipython3",
   "version": "3.11.6"
  }
 },
 "nbformat": 4,
 "nbformat_minor": 2
}
