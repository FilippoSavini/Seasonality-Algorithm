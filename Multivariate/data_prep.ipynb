{
 "cells": [
  {
   "cell_type": "markdown",
   "metadata": {},
   "source": [
    "Required packets"
   ]
  },
  {
   "cell_type": "code",
   "execution_count": 1,
   "metadata": {},
   "outputs": [],
   "source": [
    "from pandas import DataFrame\n",
    "import numpy as np\n",
    "import matplotlib.pyplot as plt\n",
    "from sklearn.preprocessing import MinMaxScaler, StandardScaler\n",
    "import pandas as pd\n",
    "from sklearn.linear_model import LinearRegression\n",
    "from scipy.stats import yeojohnson"
   ]
  },
  {
   "cell_type": "markdown",
   "metadata": {},
   "source": [
    "## Prepare the dataset"
   ]
  },
  {
   "cell_type": "markdown",
   "metadata": {},
   "source": [
    "Load the dataset and retrieve header and time"
   ]
  },
  {
   "cell_type": "code",
   "execution_count": null,
   "metadata": {},
   "outputs": [],
   "source": [
    "#date_parser = lambda x: to_datetime(x, format=\"%Y/%m/%d\")\n",
    "series = pd.read_csv('drive/MyDrive/dataset/Water/task_df_aggr_persone_media.csv', header=0, index_col=0, parse_dates=True)\n",
    "\n",
    "# Check for NaN values\n",
    "nan_check = series.isna().any().any()\n",
    "\n",
    "if nan_check:\n",
    "    print(\"Dataset contains NaN values\")\n",
    "    upsampled= series.resample('D').mean()\n",
    "    series = upsampled.interpolate(method = 'linear')\n",
    "else:\n",
    "    print(\"Dataset does not contain NaN values\")\n",
    "\n",
    "# Retrieve the header (column names) from the original DataFrame\n",
    "header = series.columns.tolist()\n",
    "\n",
    "# Create a time index for the entire period\n",
    "time_index = series.index\n",
    "\n",
    "# Plot each variable separately\n",
    "for column in series.columns:\n",
    "    plt.plot(time_index, series[column], label=column)\n",
    "\n",
    "    plt.title(\"Multivariate Dataset (NaN interpolated)\")\n",
    "    plt.xlabel(\"Time\")\n",
    "    plt.ylabel(\"Value\")\n",
    "    plt.legend()\n",
    "    plt.show()"
   ]
  },
  {
   "cell_type": "markdown",
   "metadata": {},
   "source": [
    "Remove the change in variance, remove the trend."
   ]
  },
  {
   "cell_type": "code",
   "execution_count": null,
   "metadata": {},
   "outputs": [],
   "source": [
    "final_series = {}\n",
    "for column in series.columns:\n",
    "  X = series[column].values\n",
    "  xt, _ = yeojohnson(X)\n",
    "  model = LinearRegression()\n",
    "  y = np.array([x for x in range(0, len(xt))])\n",
    "  model.fit(y.reshape(-1, 1), xt)\n",
    "  pred = model.predict(y.reshape(-1, 1))\n",
    "  detrend = xt - pred\n",
    "\n",
    "  # Plot\n",
    "  plt.plot(detrend)\n",
    "  plt.title(column)\n",
    "  plt.show()\n",
    "\n",
    "  # Scale\n",
    "  scaler = MinMaxScaler(feature_range=(-1, 1)) # Scale the values between -1 and 1\n",
    "  time_series_scaled = scaler.fit_transform(detrend.reshape(-1, 1)).flatten()\n",
    "\n",
    "  final_series[column] = time_series_scaled"
   ]
  },
  {
   "cell_type": "markdown",
   "metadata": {},
   "source": [
    "Create a new dataset"
   ]
  },
  {
   "cell_type": "code",
   "execution_count": null,
   "metadata": {},
   "outputs": [],
   "source": [
    "df = DataFrame(data = final_series, index = time_index, columns = header)\n",
    "df.to_csv('series_normalized.csv')"
   ]
  },
  {
   "cell_type": "markdown",
   "metadata": {},
   "source": [
    "Plot"
   ]
  },
  {
   "cell_type": "code",
   "execution_count": null,
   "metadata": {},
   "outputs": [],
   "source": [
    "for column in header:\n",
    "  plt.plot(time_index, final_series[column])\n",
    "  plt.title(column)\n",
    "  plt.xlabel('Time')\n",
    "  plt.ylabel('Amplitude')\n",
    "  plt.show()"
   ]
  }
 ],
 "metadata": {
  "kernelspec": {
   "display_name": "wav_env",
   "language": "python",
   "name": "python3"
  },
  "language_info": {
   "codemirror_mode": {
    "name": "ipython",
    "version": 3
   },
   "file_extension": ".py",
   "mimetype": "text/x-python",
   "name": "python",
   "nbconvert_exporter": "python",
   "pygments_lexer": "ipython3",
   "version": "3.11.6"
  }
 },
 "nbformat": 4,
 "nbformat_minor": 2
}
